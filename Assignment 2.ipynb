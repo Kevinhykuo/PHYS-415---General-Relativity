{
 "cells": [
  {
   "cell_type": "markdown",
   "metadata": {},
   "source": [
    "# Assignment 2"
   ]
  },
  {
   "cell_type": "code",
   "execution_count": 1,
   "metadata": {},
   "outputs": [],
   "source": [
    "import scipy as sci \n",
    "import numpy as np \n",
    "from numpy import sqrt, absolute\n",
    "from scipy.constants import G, c"
   ]
  },
  {
   "cell_type": "code",
   "execution_count": 2,
   "metadata": {},
   "outputs": [],
   "source": [
    "# Define constants \n",
    "v_sat = 7000*(5/9)\n",
    "h_sat = 2.0308*10**7\n",
    "r_ear = 6.371*10**6\n",
    "r_sat = h_sat + r_ear\n",
    "m_ear = 5.972*10**24"
   ]
  },
  {
   "cell_type": "markdown",
   "metadata": {},
   "source": [
    "#### Functions:\n",
    "\n",
    "Gravatational Potential:\n",
    "$$\\Phi = -\\frac{Gm}{r}$$\n",
    "\n",
    "Gamma: \n",
    "$$\\gamma = \\left[1-\\left(\\frac{v}{c}\\right)^2\\right]^{-\\frac{1}{2}}$$"
   ]
  },
  {
   "cell_type": "code",
   "execution_count": 3,
   "metadata": {},
   "outputs": [],
   "source": [
    "# Define functions \n",
    "def GPot(m1, r):\n",
    "    gpot = -G*m1/r\n",
    "    return(gpot)\n",
    "\n",
    "def gamma(v):\n",
    "    Gam = 1/sqrt(1 - (v/c)**2)\n",
    "    return(Gam)  "
   ]
  },
  {
   "cell_type": "markdown",
   "metadata": {},
   "source": [
    "## Question 1"
   ]
  },
  {
   "cell_type": "markdown",
   "metadata": {},
   "source": [
    "Let: \n",
    "\n",
    "$\\Delta t'$ be the time in the stationary frame\n",
    "\n",
    "$\\Delta \\tau$ be the time in the moving frame\n",
    "\n",
    "#### Functions:\n",
    "Doppler formula for time: \n",
    "\n",
    "$$\\Delta t' = \\Delta \\tau \\left(1 + \\frac{v^2}{2c^2} - \\frac{\\Delta \\Phi}{c^2} + \\cdot \\cdot \\cdot \\right)$$ \n",
    "\n",
    "Special relativistic time dilation: \n",
    "\n",
    "$$\\Delta t'_{sr} = \\frac{\\Delta \\tau}{\\gamma} \\approx \\Delta \\tau \\left(1 + \\frac{1}{2}\\frac{v^2}{c^2} + \\cdot \\cdot \\cdot \\right)$$\n",
    "\n",
    "Gravitational redshift: \n",
    "\n",
    "$$\\Delta \\tau = \\Delta t'_{rs} \\left(1 + \\frac{2 \\Delta \\Phi}{c^2} \\right)^\\frac{1}{2}$$\n",
    "$$\\therefore \\Delta t'_{rs} = \\Delta \\tau \\left(1 + \\frac{2 \\Delta \\Phi}{c^2} \\right)^{-\\frac{1}{2}} \\approx \\Delta \\tau \\left( 1 - \\frac{\\Delta \\Phi}{c^2} + \\cdot \\cdot \\cdot \\right) $$\n",
    "\n",
    "Accounting for the two effects: \n",
    "\n",
    "$$\\Delta t' = \\Delta \\tau \\gamma \\left(1 + \\frac{2 \\Delta \\Phi}{c^2} \\right)^{-\\frac{1}{2}} \\approx \\Delta \\tau \\left(1 + \\frac{1}{2}\\frac{v^2}{c^2} + \\cdot \\cdot \\cdot \\right) \\left( 1 - \\frac{\\Delta \\Phi}{c^2} + \\cdot \\cdot \\cdot \\right) = \\Delta \\tau \\left(1 + \\frac{v^2}{2c^2} - \\frac{\\Delta \\Phi}{c^2} + \\cdot \\cdot \\cdot \\right)$$\n",
    "\n",
    "We have the Doppler formula for time"
   ]
  },
  {
   "cell_type": "code",
   "execution_count": 4,
   "metadata": {},
   "outputs": [],
   "source": [
    "# Special relativistic time dilation \n",
    "def dt_sr(v, dtau=1):\n",
    "    Dt_sr = dtau/gamma(v)\n",
    "    return(Dt_sr)\n",
    "\n",
    "# Gravitational redshift\n",
    "def dt_rs(m1, r1, r2, dtau=1):\n",
    "    DGPot = GPot(m1, r1) - GPot(m1, r2)\n",
    "    Dt_rs = dtau / (1 + 2*DGPot/c**2)**0.5\n",
    "    return(Dt_rs)\n",
    "\n",
    "# Doppler formula for time\n",
    "def dt_prime(m1, r1, r2, v, dtau=1): \n",
    "    DGPot = GPot(m1, r1) - GPot(m1, r2)\n",
    "    Dt_prime = dt_rs(m1, r1, r2, dtau=1) * gamma(v)  \n",
    "    return(Dt_prime)"
   ]
  },
  {
   "cell_type": "markdown",
   "metadata": {},
   "source": [
    "### a) GPS satellites"
   ]
  },
  {
   "cell_type": "markdown",
   "metadata": {},
   "source": [
    "#### (i) Ignoring special relativistic time dilation\n",
    "\n",
    "$$Error = \\frac{|\\Delta t' - \\Delta t'_{rs}|}{\\Delta t'} \\approx \\frac{\\left(1 + \\frac{v^2}{2c^2} - \\frac{\\Delta \\Phi}{c^2} \\right) - \\left(1 - \\frac{\\Delta \\Phi}{c^2} \\right)}{\\left(1 + \\frac{v^2}{2c^2} - \\frac{\\Delta \\Phi}{c^2} \\right)} = \\frac{\\frac{v^2}{2c^2} }{\\left(1 + \\frac{v^2}{2c^2} - \\frac{\\Delta \\Phi}{c^2} \\right)}$$"
   ]
  },
  {
   "cell_type": "code",
   "execution_count": 5,
   "metadata": {},
   "outputs": [
    {
     "name": "stdout",
     "output_type": "stream",
     "text": [
      "Error =  8.413558733429964e-11 (percise)\n",
      "Error =  8.413557517461799e-11 (approximation)\n"
     ]
    }
   ],
   "source": [
    "def NoSRTime(m1, r1, r2, v, dtau=1):\n",
    "    dt_p = dt_prime(m1, r1, r2, v, dtau=1)\n",
    "    dt_r = dt_rs(m1, r1, r2)\n",
    "    Abs = absolute(dt_p - dt_r)\n",
    "    No = Abs / dt_p\n",
    "    return(No, dt_p, dt_r)\n",
    "\n",
    "def NoSRTApp(m1, r1, r2, v, dtau=1):\n",
    "    DGPot = GPot(m1, r1) - GPot(m1, r2)\n",
    "    top =  0.5*(v/c)**2\n",
    "    No = top/(1 + 0.5*(v/c)**2 - DGPot/c**2)\n",
    "    return(No)\n",
    "\n",
    "print('Error = ', NoSRTime(m_ear, r_ear, r_sat, v_sat)[0], '(percise)')\n",
    "print('Error = ', NoSRTApp(m_ear, r_ear, r_sat, v_sat), '(approximation)')"
   ]
  },
  {
   "cell_type": "markdown",
   "metadata": {},
   "source": [
    "#### (ii) Ignoring gravitiational redshift\n",
    "\n",
    "$$Error = \\frac{|\\Delta t' - \\Delta t'_{sr}|}{\\Delta t'} \\approx \\frac{\\left(1 + \\frac{v^2}{2c^2} - \\frac{\\Delta \\Phi}{c^2} \\right) - \\left(1 + \\frac{v^2}{2c^2} \\right)}{\\left(1 + \\frac{v^2}{2c^2} - \\frac{\\Delta \\Phi}{c^2} \\right)} = \\frac{- \\frac{\\Delta \\Phi}{c^2}}{\\left(1 + \\frac{v^2}{2c^2} - \\frac{\\Delta \\Phi}{c^2} \\right)}$$"
   ]
  },
  {
   "cell_type": "code",
   "execution_count": 6,
   "metadata": {},
   "outputs": [
    {
     "name": "stdout",
     "output_type": "stream",
     "text": [
      "Error =  6.981295537377239e-10 (percise)\n",
      "Error =  5.298583754982382e-10 (approximation)\n"
     ]
    }
   ],
   "source": [
    "# The percise answer\n",
    "def NoRSTime(m1, r1, r2, v, dtau=1):\n",
    "    dt_p = dt_prime(m1, r1, r2, v, dtau=1)\n",
    "    dt_s = dt_sr(v, dtau=1)\n",
    "    Abs = absolute(dt_p - dt_s)\n",
    "    No = Abs / dt_p\n",
    "    return(No, dt_p, dt_s)\n",
    "\n",
    "# The approximate answer \n",
    "def NoRSTApp(m1, r1, r2, v, dtau=1):\n",
    "    DGPot = GPot(m1, r1) - GPot(m1, r2)\n",
    "    top =  -DGPot/c**2\n",
    "    No = top/(1 + 0.5*(v/c)**2 - DGPot/c**2)\n",
    "    return(No)\n",
    "\n",
    "# NoSRTime(m_ear, 1, r_ear, r_sat, v_sat)\n",
    "print('Error = ', NoRSTime(m_ear, r_ear, r_sat, v_sat)[0], '(percise)')\n",
    "print('Error = ', NoRSTApp(m_ear, r_ear, r_sat, v_sat), '(approximation)')"
   ]
  },
  {
   "cell_type": "markdown",
   "metadata": {},
   "source": [
    "### b) Rate of errors in position measurements from ignoring all relativistic effects"
   ]
  },
  {
   "cell_type": "markdown",
   "metadata": {},
   "source": [
    "$$Error = \\frac{|\\Delta t' - \\Delta t'_{rs}| + |\\Delta t' - \\Delta t'_{sr}|}{\\Delta t'} \\approx \\frac{\\frac{v^2}{2c^2} - \\frac{\\Delta \\Phi}{c^2} }{\\left(1 + \\frac{v^2}{2c^2} - \\frac{\\Delta \\Phi}{c^2} \\right)}$$"
   ]
  },
  {
   "cell_type": "code",
   "execution_count": 7,
   "metadata": {},
   "outputs": [
    {
     "name": "stdout",
     "output_type": "stream",
     "text": [
      "Error =  7.822651410720236e-10 (percise)\n",
      "Error =  6.139939506728562e-10 (approximation)\n"
     ]
    }
   ],
   "source": [
    "# The percise answer\n",
    "def IgnoreAll(m1, r1, r2, v, dtau=1):\n",
    "    dt_p = dt_prime(m1, r1, r2, v, dtau=1)\n",
    "    dt_s = dt_sr(v, dtau=1)\n",
    "    dt_r = dt_rs(m1, r1, r2)\n",
    "    Abs = absolute(dt_p - dt_s) + absolute(dt_p - dt_r)\n",
    "    No = Abs / dt_p\n",
    "    return(No, dt_p, dt_s)\n",
    "\n",
    "# The approximate answer \n",
    "def IgnoreApp(m1, r1, r2, v, dtau=1):\n",
    "    DGPot = GPot(m1, r1) - GPot(m1, r2)\n",
    "    top = 0.5*(v/c)**2 - DGPot/c**2\n",
    "    No = top/(1 + 0.5*(v/c)**2 - DGPot/c**2)\n",
    "    return(No)\n",
    "\n",
    "print('Error = ', IgnoreAll(m_ear, r_ear, r_sat, v_sat)[0], '(percise)')\n",
    "print('Error = ', IgnoreApp(m_ear, r_ear, r_sat, v_sat), '(approximation)')"
   ]
  },
  {
   "cell_type": "markdown",
   "metadata": {},
   "source": [
    "Now that we have the error. We can calculate the error of ignoring all relativistic effects in distance per unit time."
   ]
  },
  {
   "cell_type": "code",
   "execution_count": 8,
   "metadata": {},
   "outputs": [
    {
     "name": "stdout",
     "output_type": "stream",
     "text": [
      "Error in meters per second:\n",
      "Error = 0.11725859472484935 m/s (percise)\n",
      "Error = 0.09203537783467315 m/s (approximation)\n",
      "\n",
      "Error per day\n",
      "Error = 10.131142584226986 km/day (percise)\n",
      "Error = 7.95185664491576 km/day (approximation)\n"
     ]
    }
   ],
   "source": [
    "def dError(v, e):\n",
    "    Error = 0.5*c*e \n",
    "    return(Error)\n",
    "\n",
    "print('Error in meters per second:')\n",
    "print('Error =', dError(v_sat, IgnoreAll(m_ear, r_ear, r_sat, v_sat)[0]), 'm/s (percise)')\n",
    "print('Error =', dError(v_sat, IgnoreApp(m_ear, r_ear, r_sat, v_sat)), 'm/s (approximation)')\n",
    "print('')\n",
    "print('Error per day')\n",
    "print('Error =', dError(v_sat, IgnoreAll(m_ear, r_ear, r_sat, v_sat)[0])*3.6*24, 'km/day (percise)')\n",
    "print('Error =', dError(v_sat, IgnoreApp(m_ear, r_ear, r_sat, v_sat))*3.6*24, 'km/day (approximation)')"
   ]
  },
  {
   "cell_type": "markdown",
   "metadata": {},
   "source": [
    "## Question 2"
   ]
  },
  {
   "cell_type": "markdown",
   "metadata": {},
   "source": [
    "Two referance frames related by: \n",
    "\n",
    "$t' = t$\n",
    "\n",
    "$\\vec{x}' = \\vec{x} + \\vec{b}(t)$"
   ]
  },
  {
   "cell_type": "markdown",
   "metadata": {},
   "source": [
    "### a) Find effective Newtonian potential $\\Phi'$\n",
    "\n",
    "We know: $\\frac{d^2 \\vec{x}}{dt^2} = - \\nabla \\Phi (t, \\vec{x})$\n",
    "\n",
    "We want to get this: $\\frac{d^2 \\vec{x}'}{dt'^2} = - \\nabla' \\Phi (t', \\vec{x}')$\n",
    "\n",
    "Here we go: \n",
    "\n",
    "$\\vec{x}'(t') = \\vec{x}(t) + \\vec{b}(t)$\n",
    "\n",
    "$\\because t' = t$ \n",
    "\n",
    "$\\therefore \\vec{x}'(t') = \\vec{x}(t) + \\vec{b}(t')$\n",
    "\n",
    "$\\Rightarrow - \\nabla' \\Phi' (t', \\vec{x}') = \\frac{d^2 \\vec{x}'}{dt'^2} = \\frac{d^2}{dt'^2}\\left[ \\vec{x}(t') + \\vec{b}(t')\\right] = \\frac{d^2}{dt^2}\\left[ \\vec{x}(t) + \\vec{b}(t)\\right] = - \\nabla \\Phi (t, \\vec{x}) + \\frac{d^2}{dt^2}\\vec{b}(t)$\n",
    "\n",
    "$\\therefore \\Phi'(t', \\vec{x}') = - \\int - \\nabla \\Phi (t, \\vec{x}) + \\frac{d^2}{dt^2}\\vec{b}(t) d\\vec{x}' = \\int \\nabla \\Phi (t, \\vec{x}) \\frac{d\\vec{x}'}{d\\vec{x}} d\\vec{x} - \\int \\frac{d^2}{dt^2}\\vec{b}(t) d\\vec{x}'$\n",
    "\n",
    "$\\Rightarrow \\Phi'(t', \\vec{x}') = \\int \\nabla \\Phi \\frac{d\\vec{x}'}{d\\vec{x}} d\\vec{x} - \\vec{x}' \\frac{d^2}{dt^2} \\vec{b}(t) + f(t) =  \\int \\nabla \\Phi d\\vec{x} - \\left[ \\vec{x} + b(t) \\right] \\frac{d^2}{dt^2} \\vec{b}(t) + f(t)$ \n",
    "\n",
    "$\\therefore \\Phi'(t', \\vec{x}') =  \\Phi(\\vec{x},t) - \\left[ \\vec{x} + b(t) \\right] \\frac{d^2}{dt^2} \\vec{b}(t) + f(t)$"
   ]
  },
  {
   "cell_type": "markdown",
   "metadata": {},
   "source": [
    "### b) Change of referance frame with $\\nabla \\Phi' = 0$ and Hessian unchanged\n",
    "\n",
    "$-\\nabla \\Phi'(x_0 ') = \\frac{d^2}{dt^2} \\vec{x}'(t') = \\frac{d^2}{dt^2} \\left[\\vec{x}(t) + \\vec{b}(t) \\right] = -\\nabla \\Phi(x_0) + \\frac{d^2}{dt^2} \\vec{b}(t) = 0$\n",
    "\n",
    "$\\nabla \\Phi(x_0) = \\frac{d^2}{dt^2} \\vec{b}(t)$\n",
    "\n",
    "$\\therefore \\vec{b}(t) = \\nabla \\Phi(x_0) \\left(\\frac{1}{2}t^2 + c_1 t + c_2\\right)$\n",
    "\n",
    "Hessian: $\\frac{\\delta^2 \\Phi'}{\\delta x^i \\delta x^j} = \\nabla(\\nabla \\Phi')$\n",
    "\n",
    "$\\nabla(\\nabla \\Phi') = \\nabla\\left[\\nabla \\phi + \\frac{d^2}{dt^2}\\vec{b}(t)\\right] = \\nabla \\left( \\nabla \\Phi \\right) + \\nabla \\frac{d^2}{dt^2}\\vec{b}(t) = \\nabla \\left( \\nabla \\Phi \\right) = 0$"
   ]
  },
  {
   "cell_type": "markdown",
   "metadata": {},
   "source": [
    "As the Hessian remains unchanged, we can always move into the frame of any accelerating object without changing the curviture of space, and assume the potential is zero. "
   ]
  }
 ],
 "metadata": {
  "kernelspec": {
   "display_name": "Python 3",
   "language": "python",
   "name": "python3"
  },
  "language_info": {
   "codemirror_mode": {
    "name": "ipython",
    "version": 3
   },
   "file_extension": ".py",
   "mimetype": "text/x-python",
   "name": "python",
   "nbconvert_exporter": "python",
   "pygments_lexer": "ipython3",
   "version": "3.7.5"
  }
 },
 "nbformat": 4,
 "nbformat_minor": 4
}
