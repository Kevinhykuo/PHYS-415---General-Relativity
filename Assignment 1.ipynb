{
 "cells": [
  {
   "cell_type": "markdown",
   "metadata": {},
   "source": [
    "# Assignment 1\n"
   ]
  },
  {
   "cell_type": "code",
   "execution_count": 1,
   "metadata": {
    "ExecuteTime": {
     "end_time": "2018-09-26T23:27:43.622630Z",
     "start_time": "2018-09-26T23:27:42.118399Z"
    }
   },
   "outputs": [],
   "source": [
    "import sympy as sym \n",
    "import sympy.vector\n",
    "from sympy import Derivative, symbols, cos, sin, simplify, sqrt, Matrix\n",
    "from sympy.physics.mechanics import *\n",
    "init_vprinting()"
   ]
  },
  {
   "cell_type": "code",
   "execution_count": 2,
   "metadata": {
    "ExecuteTime": {
     "end_time": "2018-09-26T23:27:43.631201Z",
     "start_time": "2018-09-26T23:27:43.626902Z"
    }
   },
   "outputs": [],
   "source": [
    "theta, beta, gamma, theta_M = symbols('theta beta gamma theta_M')"
   ]
  },
  {
   "cell_type": "markdown",
   "metadata": {},
   "source": [
    "## Question 1\n",
    "\n",
    "### b) \n",
    "Let the variables with \"M\" subscripts denote quantities in the moving frame. \n",
    "\n",
    "$dN = n(\\theta, \\phi) d\\Omega$  \n",
    "\n",
    "$dN_M = n_M(\\theta_M, \\phi_M) d\\Omega_M$ \n",
    "\n",
    "Where: \n",
    "\n",
    "$d\\Omega = \\sin(\\theta) d\\theta d\\phi$ \n",
    "\n",
    "$d\\Omega_M = \\sin(\\theta_M) d\\theta_M d\\phi_M$\n",
    "\n",
    "$\\theta$ is the angle light makes with the x-axis in the stationary frame.\n",
    "\n",
    "$\\theta_M$ is the angle light makes with the x-axis in the moving frame."
   ]
  },
  {
   "cell_type": "markdown",
   "metadata": {},
   "source": [
    "#### Here is what we know: \n",
    "$n(\\theta, \\phi) = Constant$ $\\because$ Stars are isotropic in stationary frame\n",
    "\n",
    "$N = N_M$ $\\because$ Total amount of start seen by both observers have to be the same. \n",
    "\n",
    "$\\therefore dN = dN_M$ \n",
    "\n",
    "We define $\\theta$ and $\\theta_M$ to be the polar angle relative to the $x$ and $x_M$ axis, respectively. The azimuthal angle $\\phi$ is in the stationary $yz$-plane, and $\\phi_M$ is in the moving $y_Mz_M$-plane. As the moving observer is moving in the $\\hat{x}$ direction, there will be contraction along the $\\hat{x}$ direction; therefore, $\\theta \\neq \\theta_M$. The $yz$-plane is unaffected, thus $\\phi = \\phi_M$. \n",
    "\n",
    "$\\phi = \\phi_M \\Rightarrow d\\phi = d\\phi_M$"
   ]
  },
  {
   "cell_type": "markdown",
   "metadata": {},
   "source": [
    "Taking the integral of $dN$ to find $N$: \n",
    "\n",
    "$N = \\int n(\\theta, \\phi) d\\Omega = n(\\theta, \\phi) \\int d\\Omega  = n(\\theta, \\phi) \\int_0^{2\\pi} \\int_0^{\\pi} \\sin(\\theta) d\\theta d\\phi = 4\\pi n(\\theta, \\phi)$ \n",
    "\n",
    "Now we find $n_M(\\theta_M, \\phi_M)$: \n",
    "\n",
    "$n_M(\\theta_M, \\phi_M) = \\frac{dN_M}{d\\Omega_M} = \\frac{dN_M}{d\\Omega} \\frac{d\\Omega}{d\\Omega_M} = \\frac{dN}{d\\Omega} \\frac{d\\Omega}{d\\Omega_M} = \\frac{N}{4\\pi} \\frac{d\\Omega}{d\\Omega_M} = \\frac{N}{4\\pi} \\frac{d\\Omega}{d\\phi} \\frac{d\\phi_M}{d\\Omega_M} = \\frac{N}{4\\pi} \\frac{\\sin(\\theta) d\\theta}{\\sin(\\theta_M)d\\theta_M}$"
   ]
  },
  {
   "cell_type": "markdown",
   "metadata": {},
   "source": [
    "We know:\n",
    "\n",
    "$\\cos(\\theta_M) = \\frac{\\cos(\\theta) - \\beta}{1 - \\beta \\cos(\\theta)}$\n",
    "\n",
    "$\\therefore \\frac{d}{d \\theta_M} \\cos(\\theta_M) = \\frac{d}{d \\theta} \\frac{\\cos(\\theta) - \\beta}{1 - \\beta \\cos(\\theta)}$\n",
    "\n",
    "However, this is what the resting observer calculates for the moving observer in the basis of the rest frame. \n",
    "\n",
    "Shifting to the moving frame, the angle of light recieved by the moving observer: \n",
    "\n",
    "$\\cos(\\theta) = \\frac{\\cos(\\theta_M) - \\beta}{1 - \\beta \\cos(\\theta_M)}$\n",
    "\n",
    "$\\therefore \\frac{d}{d \\theta} \\cos(\\theta) = \\frac{d}{d \\theta_M} \\frac{\\cos(\\theta_M) - \\beta}{1 - \\beta \\cos(\\theta_M)}$\n"
   ]
  },
  {
   "cell_type": "markdown",
   "metadata": {
    "ExecuteTime": {
     "end_time": "2018-09-25T21:12:17.661454Z",
     "start_time": "2018-09-25T21:12:17.412055Z"
    }
   },
   "source": [
    "#### Find the Derivatives\n",
    "\n",
    "\n",
    "$\\frac{d}{d \\theta} \\cos(\\theta) =$"
   ]
  },
  {
   "cell_type": "code",
   "execution_count": 3,
   "metadata": {
    "ExecuteTime": {
     "end_time": "2018-09-26T01:44:36.839856Z",
     "start_time": "2018-09-26T01:44:36.384648Z"
    }
   },
   "outputs": [
    {
     "data": {
      "image/png": "[encoded data removed]",
      "text/latex": [
       "$\\displaystyle - \\operatorname{sin}\\left(\\theta\\right)$"
      ],
      "text/plain": [
       "-sin(θ)"
      ]
     },
     "execution_count": 3,
     "metadata": {},
     "output_type": "execute_result"
    }
   ],
   "source": [
    "xmove = cos(theta)\n",
    "dxmove = Derivative(xmove, theta).doit()\n",
    "dxmove"
   ]
  },
  {
   "cell_type": "markdown",
   "metadata": {},
   "source": [
    "$\\frac{d}{d\\theta} \\frac{\\cos(\\theta) - \\beta}{1 - \\beta \\cos(\\theta)} =$"
   ]
  },
  {
   "cell_type": "code",
   "execution_count": 4,
   "metadata": {
    "ExecuteTime": {
     "end_time": "2018-09-26T01:44:39.008102Z",
     "start_time": "2018-09-26T01:44:38.201578Z"
    }
   },
   "outputs": [
    {
     "data": {
      "image/png": "[encoded data removed]",
      "text/latex": [
       "$\\displaystyle \\frac{\\left(\\beta^{2} - 1\\right) \\operatorname{sin}\\left(\\theta_{M}\\right)}{\\left(\\beta \\operatorname{cos}\\left(\\theta_{M}\\right) - 1\\right)^{2}}$"
      ],
      "text/plain": [
       "⎛ 2    ⎞         \n",
       "⎝β  - 1⎠⋅sin(θ_M)\n",
       "─────────────────\n",
       "                2\n",
       "(β⋅cos(θ_M) - 1) "
      ]
     },
     "execution_count": 4,
     "metadata": {},
     "output_type": "execute_result"
    }
   ],
   "source": [
    "xstat = (cos(theta_M) - beta)/(1 - beta*cos(theta_M))\n",
    "dxstat = Derivative(xstat, theta_M).doit()\n",
    "dxstat.simplify() "
   ]
  },
  {
   "cell_type": "markdown",
   "metadata": {},
   "source": [
    "$\n",
    "\\therefore \\sin(\\theta) d\\theta = \\frac{1 - \\beta^2 }{(\\beta\\cos(\\theta_M) - 1)^2} \\sin(\\theta_M) d\\theta_M\n",
    "\\Rightarrow\n",
    "\\frac{\\sin(\\theta) d\\theta}{\\sin(\\theta_M) d\\theta_M} = \\frac{1 - \\beta^2 }{(1 - \\beta\\cos(\\theta_M))^2}\n",
    "$ "
   ]
  },
  {
   "cell_type": "markdown",
   "metadata": {},
   "source": [
    "Combining this with what we got for $n_M(\\theta_M, \\phi_M)$:\n",
    "\n",
    "$n_M(\\theta_M, \\phi_M) = \\frac{N}{4\\pi} \\frac{d\\Omega}{d\\phi} \\frac{d\\phi_M}{d\\Omega_M} = \\frac{\\sin(\\theta) d\\theta}{\\sin(\\theta_M)d\\theta_M}$\n",
    "\n",
    "We have \n",
    "\n",
    "$n_M(\\theta_M, \\phi_M) = \\frac{N}{4\\pi} \\frac{d\\Omega}{d\\phi} \\frac{d\\phi_M}{d\\Omega_M} = \\frac{N}{4\\pi} \\frac{\\sin(\\theta) d\\theta}{\\sin(\\theta_M)d\\theta_M} = \\frac{N}{4\\pi} \\left[ \\frac{1 - \\beta^2 }{(1-\\beta\\cos(\\theta_M))^2} \\right]$"
   ]
  },
  {
   "cell_type": "markdown",
   "metadata": {},
   "source": [
    "### c)\n",
    "\n",
    "As $\\beta \\rightarrow 1$:\n",
    "\n",
    "$1-\\beta^2 \\rightarrow 0$\n",
    "\n",
    "$1-\\beta \\cos(\\theta_M) \\rightarrow 1-\\cos(\\theta_M)$\n",
    "\n",
    "$\\therefore \\frac{N}{4\\pi} \\left[ \\frac{1 - \\beta^2 }{(1-\\beta\\cos(\\theta))^2} \\right] \\rightarrow 0$"
   ]
  },
  {
   "cell_type": "markdown",
   "metadata": {},
   "source": [
    "This means all the stars in the sky has disappeared. \n",
    "If we look at the $1-\\beta \\cos(\\theta)$ term we can get a sense of where they went. $1-\\beta \\cos(\\theta)$ has a minimum value of $-1$ at $\\theta = 0$ and a maximum value of $1$ at $\\theta = \\pi$, so when $\\theta = 0$, $n_m(\\theta_M, \\phi_M)$ goes to infinity. This tells us all the stars are \"moving\" behind the moving observer as the moving observer approaches the speed of light. At the the speed of light, all the stars have condensed into a single point behind the moving observer.  "
   ]
  },
  {
   "cell_type": "markdown",
   "metadata": {},
   "source": [
    "## Question 2"
   ]
  },
  {
   "cell_type": "code",
   "execution_count": 5,
   "metadata": {
    "ExecuteTime": {
     "end_time": "2018-09-26T23:27:57.030260Z",
     "start_time": "2018-09-26T23:27:57.016256Z"
    }
   },
   "outputs": [],
   "source": [
    "c = symbols('c')\n",
    "\n",
    "C = sympy.vector.CoordSys3D('C')\n",
    "E1, E2, E3 = symbols('E1:4')\n",
    "E_vec = E1*C.i+E2*C.j+E3*C.k\n",
    "\n",
    "B1, B2, B3 = symbols('B1:4')\n",
    "\n",
    "v1, v2, v3 = symbols('v1:4')\n",
    "v_vec = v1*C.i+v2*C.j+v3*C.k\n",
    "v = sqrt(v1**2+v2**2+v3**2)"
   ]
  },
  {
   "cell_type": "markdown",
   "metadata": {},
   "source": [
    "Find out what this term looks like:\n",
    "\n",
    "$\n",
    "\\vec{B'} = -\\frac{\\gamma}{c^2} (\\vec{v} \\times \\vec{E})\n",
    "$"
   ]
  },
  {
   "cell_type": "code",
   "execution_count": 6,
   "metadata": {
    "ExecuteTime": {
     "end_time": "2018-09-26T23:28:23.006293Z",
     "start_time": "2018-09-26T23:28:22.554368Z"
    }
   },
   "outputs": [
    {
     "data": {
      "image/png": "[encoded data removed]",
      "text/latex": [
       "$\\displaystyle (- \\frac{\\gamma \\left(- E_{2} v_{3} + E_{3} v_{2}\\right)}{c^{2}})\\mathbf{\\hat{i}_{C}} + (- \\frac{\\gamma \\left(E_{1} v_{3} - E_{3} v_{1}\\right)}{c^{2}})\\mathbf{\\hat{j}_{C}} + (- \\frac{\\gamma \\left(- E_{1} v_{2} + E_{2} v_{1}\\right)}{c^{2}})\\mathbf{\\hat{k}_{C}}$"
      ],
      "text/plain": [
       "(-gamma*(-E2*v3 + E3*v2)/c**2)*C.i + (-gamma*(E1*v3 - E3*v1)/c**2)*C.j + (-gamma*(-E1*v2 + E2*v1)/c**2)*C.k"
      ]
     },
     "metadata": {},
     "output_type": "display_data"
    }
   ],
   "source": [
    "B_cross = -gamma/c**2*v_vec.cross(E_vec)\n",
    "display(B_cross)"
   ]
  },
  {
   "cell_type": "markdown",
   "metadata": {},
   "source": [
    "Here we define the various tensors: \n",
    "\n",
    "$F_{\\mu \\nu}$ (F) is the tensor for the electromagnetic field \n",
    "\n",
    "$F_{\\mu \\nu 0}$ (F0) is the tensor for the electromagnetic field in a frame where $\\vec{B} = 0$\n",
    "\n",
    "$\\Lambda_{\\mu'}^{\\mu}$ (Lam) is the tensor that transforms F to F'\n",
    "\n",
    "$\n",
    "F'_{\\mu' \\nu'} = \\Lambda_{\\mu'}^{\\mu} \\Lambda_{\\nu'}^{\\nu} F_{\\mu \\nu}\n",
    "$"
   ]
  },
  {
   "cell_type": "code",
   "execution_count": 11,
   "metadata": {
    "ExecuteTime": {
     "end_time": "2018-09-26T03:18:56.974056Z",
     "start_time": "2018-09-26T03:18:56.448693Z"
    }
   },
   "outputs": [
    {
     "name": "stdout",
     "output_type": "stream",
     "text": [
      "CPU times: user 22.2 ms, sys: 9.92 ms, total: 32.1 ms\n",
      "Wall time: 30.4 ms\n"
     ]
    },
    {
     "data": {
      "image/png": "[encoded data removed]",
      "text/latex": [
       "$\\displaystyle \\left( \\left[\\begin{matrix}0 & \\frac{E_{1}}{c} & \\frac{E_{2}}{c} & \\frac{E_{3}}{c}\\\\- \\frac{E_{1}}{c} & 0 & - B_{3} & B_{2}\\\\- \\frac{E_{2}}{c} & B_{3} & 0 & - B_{1}\\\\- \\frac{E_{3}}{c} & - B_{2} & B_{1} & 0\\end{matrix}\\right], \\  \\left[\\begin{matrix}0 & \\frac{E_{1}}{c} & \\frac{E_{2}}{c} & \\frac{E_{3}}{c}\\\\- \\frac{E_{1}}{c} & 0 & 0 & 0\\\\- \\frac{E_{2}}{c} & 0 & 0 & 0\\\\- \\frac{E_{3}}{c} & 0 & 0 & 0\\end{matrix}\\right], \\  \\left[\\begin{matrix}\\gamma & \\frac{\\gamma v_{1}}{c} & \\frac{\\gamma v_{2}}{c} & \\frac{\\gamma v_{3}}{c}\\\\\\frac{\\gamma v_{1}}{c} & \\frac{v_{1}^{2} \\left(\\gamma - 1\\right)}{v_{1}^{2} + v_{2}^{2} + v_{3}^{2}} + 1 & \\frac{v_{1} v_{2} \\left(\\gamma - 1\\right)}{v_{1}^{2} + v_{2}^{2} + v_{3}^{2}} & \\frac{v_{1} v_{3} \\left(\\gamma - 1\\right)}{v_{1}^{2} + v_{2}^{2} + v_{3}^{2}}\\\\\\frac{\\gamma v_{2}}{c} & \\frac{v_{1} v_{2} \\left(\\gamma - 1\\right)}{v_{1}^{2} + v_{2}^{2} + v_{3}^{2}} & \\frac{v_{2}^{2} \\left(\\gamma - 1\\right)}{v_{1}^{2} + v_{2}^{2} + v_{3}^{2}} + 1 & \\frac{v_{2} v_{3} \\left(\\gamma - 1\\right)}{v_{1}^{2} + v_{2}^{2} + v_{3}^{2}}\\\\\\frac{\\gamma v_{3}}{c} & \\frac{v_{1} v_{3} \\left(\\gamma - 1\\right)}{v_{1}^{2} + v_{2}^{2} + v_{3}^{2}} & \\frac{v_{2} v_{3} \\left(\\gamma - 1\\right)}{v_{1}^{2} + v_{2}^{2} + v_{3}^{2}} & \\frac{v_{3}^{2} \\left(\\gamma - 1\\right)}{v_{1}^{2} + v_{2}^{2} + v_{3}^{2}} + 1\\end{matrix}\\right]\\right)$"
      ],
      "text/plain": [
       "⎛                                           ⎡             γ⋅v₁                \n",
       "⎜                                           ⎢ γ           ────                \n",
       "⎜                                           ⎢              c                  \n",
       "⎜⎡      E₁   E₂   E₃ ⎤  ⎡      E₁  E₂  E₃⎤  ⎢                                 \n",
       "⎜⎢ 0    ──   ──   ── ⎥  ⎢ 0    ──  ──  ──⎥  ⎢          2                      \n",
       "⎜⎢      c    c    c  ⎥  ⎢      c   c   c ⎥  ⎢γ⋅v₁    v₁ ⋅(γ - 1)           v₁⋅\n",
       "⎜⎢                   ⎥  ⎢                ⎥  ⎢────  ─────────────── + 1    ────\n",
       "⎜⎢-E₁                ⎥  ⎢-E₁             ⎥  ⎢ c      2     2     2          2 \n",
       "⎜⎢────   0   -B₃  B₂ ⎥  ⎢────  0   0   0 ⎥  ⎢      v₁  + v₂  + v₃         v₁  \n",
       "⎜⎢ c                 ⎥  ⎢ c              ⎥  ⎢                                 \n",
       "⎜⎢                   ⎥, ⎢                ⎥, ⎢                               2 \n",
       "⎜⎢-E₂                ⎥  ⎢-E₂             ⎥  ⎢γ⋅v₂     v₁⋅v₂⋅(γ - 1)       v₂ ⋅\n",
       "⎜⎢────  B₃    0   -B₁⎥  ⎢────  0   0   0 ⎥  ⎢────    ───────────────    ──────\n",
       "⎜⎢ c                 ⎥  ⎢ c              ⎥  ⎢ c        2     2     2      2   \n",
       "⎜⎢                   ⎥  ⎢                ⎥  ⎢        v₁  + v₂  + v₃     v₁  + \n",
       "⎜⎢-E₃                ⎥  ⎢-E₃             ⎥  ⎢                                 \n",
       "⎜⎢────  -B₂  B₁    0 ⎥  ⎢────  0   0   0 ⎥  ⎢                                 \n",
       "⎜⎣ c                 ⎦  ⎣ c              ⎦  ⎢γ⋅v₃     v₁⋅v₃⋅(γ - 1)        v₂⋅\n",
       "⎜                                           ⎢────    ───────────────      ────\n",
       "⎜                                           ⎢ c        2     2     2        2 \n",
       "⎝                                           ⎣        v₁  + v₂  + v₃       v₁  \n",
       "\n",
       " γ⋅v₂                 γ⋅v₃        ⎤⎞\n",
       " ────                 ────        ⎥⎟\n",
       "  c                    c          ⎥⎟\n",
       "                                  ⎥⎟\n",
       "                                  ⎥⎟\n",
       "v₂⋅(γ - 1)        v₁⋅v₃⋅(γ - 1)   ⎥⎟\n",
       "───────────      ───────────────  ⎥⎟\n",
       "    2     2        2     2     2  ⎥⎟\n",
       "+ v₂  + v₃       v₁  + v₂  + v₃   ⎥⎟\n",
       "                                  ⎥⎟\n",
       "                                  ⎥⎟\n",
       "(γ - 1)           v₂⋅v₃⋅(γ - 1)   ⎥⎟\n",
       "───────── + 1    ───────────────  ⎥⎟\n",
       "  2     2          2     2     2  ⎥⎟\n",
       "v₂  + v₃         v₁  + v₂  + v₃   ⎥⎟\n",
       "                                  ⎥⎟\n",
       "                   2              ⎥⎟\n",
       "v₃⋅(γ - 1)       v₃ ⋅(γ - 1)      ⎥⎟\n",
       "───────────    ─────────────── + 1⎥⎟\n",
       "    2     2      2     2     2    ⎥⎟\n",
       "+ v₂  + v₃     v₁  + v₂  + v₃     ⎦⎠"
      ]
     },
     "execution_count": 11,
     "metadata": {},
     "output_type": "execute_result"
    }
   ],
   "source": [
    "%%time\n",
    "F = Matrix([[0, E1, E2, E3], \n",
    "            [-E1, 0, -c*B3, c*B2], \n",
    "            [-E2, c*B3, 0, -c*B1], \n",
    "            [-E3, -c*B2, c*B1, 0]])/c\n",
    "\n",
    "F0 = F.subs({B1:0, B2:0, B3:0})\n",
    "\n",
    "Lam = Matrix([[gamma, v1*gamma/c, v2*gamma/c, v3*gamma/c], \n",
    "              [v1*gamma/c, 1+(gamma-1)*v1**2/v**2, (gamma-1)*v1*v2/v**2, (gamma-1)*v1*v3/v**2],\n",
    "              [gamma*v2/c, (gamma-1)*v2*v1/v**2, 1+(gamma-1)*v2**2/v**2, (gamma-1)*v2*v3/v**2],\n",
    "              [gamma*v3/c, (gamma-1)*v3*v1/v**2, (gamma-1)*v3*v2/v**2, 1+(gamma-1)*v3**2/v**2]])\n",
    "F, F0, Lam"
   ]
  },
  {
   "cell_type": "markdown",
   "metadata": {},
   "source": [
    "Now we find \n",
    "$\n",
    "F'_{\\mu' \\nu'} = \\Lambda_{\\mu'}^{\\mu} \\Lambda_{\\nu'}^{\\nu} F_{\\mu \\nu}\n",
    "$"
   ]
  },
  {
   "cell_type": "code",
   "execution_count": 8,
   "metadata": {
    "ExecuteTime": {
     "end_time": "2018-09-26T03:19:05.180099Z",
     "start_time": "2018-09-26T03:18:59.781818Z"
    }
   },
   "outputs": [
    {
     "data": {
      "image/png": "[encoded data removed]",
      "text/latex": [
       "$\\displaystyle \\left[\\begin{matrix}0 & \\frac{\\gamma \\left(c^{2} \\left(E_{1} \\left(v_{1}^{2} \\left(\\gamma - 1\\right) + v_{1}^{2} + v_{2}^{2} + v_{3}^{2}\\right) + E_{2} v_{1} v_{2} \\left(\\gamma - 1\\right) + E_{3} v_{1} v_{3} \\left(\\gamma - 1\\right)\\right) - \\gamma v_{1} \\left(v_{1}^{2} + v_{2}^{2} + v_{3}^{2}\\right) \\left(E_{1} v_{1} + E_{2} v_{2} + E_{3} v_{3}\\right)\\right)}{c^{3} \\left(v_{1}^{2} + v_{2}^{2} + v_{3}^{2}\\right)} & \\frac{\\gamma \\left(c^{2} \\left(E_{1} v_{1} v_{2} \\left(\\gamma - 1\\right) + E_{2} \\left(v_{1}^{2} + v_{2}^{2} \\left(\\gamma - 1\\right) + v_{2}^{2} + v_{3}^{2}\\right) + E_{3} v_{2} v_{3} \\left(\\gamma - 1\\right)\\right) - \\gamma v_{2} \\left(v_{1}^{2} + v_{2}^{2} + v_{3}^{2}\\right) \\left(E_{1} v_{1} + E_{2} v_{2} + E_{3} v_{3}\\right)\\right)}{c^{3} \\left(v_{1}^{2} + v_{2}^{2} + v_{3}^{2}\\right)} & \\frac{\\gamma \\left(c^{2} \\left(E_{1} v_{1} v_{3} \\left(\\gamma - 1\\right) + E_{2} v_{2} v_{3} \\left(\\gamma - 1\\right) + E_{3} \\left(v_{1}^{2} + v_{2}^{2} + v_{3}^{2} \\left(\\gamma - 1\\right) + v_{3}^{2}\\right)\\right) - \\gamma v_{3} \\left(v_{1}^{2} + v_{2}^{2} + v_{3}^{2}\\right) \\left(E_{1} v_{1} + E_{2} v_{2} + E_{3} v_{3}\\right)\\right)}{c^{3} \\left(v_{1}^{2} + v_{2}^{2} + v_{3}^{2}\\right)}\\\\\\frac{\\gamma \\left(- c^{2} \\left(E_{1} \\left(v_{1}^{2} \\left(\\gamma - 1\\right) + v_{1}^{2} + v_{2}^{2} + v_{3}^{2}\\right) + E_{2} v_{1} v_{2} \\left(\\gamma - 1\\right) + E_{3} v_{1} v_{3} \\left(\\gamma - 1\\right)\\right) + \\gamma v_{1} \\left(v_{1}^{2} + v_{2}^{2} + v_{3}^{2}\\right) \\left(E_{1} v_{1} + E_{2} v_{2} + E_{3} v_{3}\\right)\\right)}{c^{3} \\left(v_{1}^{2} + v_{2}^{2} + v_{3}^{2}\\right)} & 0 & \\frac{\\gamma \\left(- E_{1} v_{2} + E_{2} v_{1}\\right)}{c^{2}} & \\frac{\\gamma \\left(- E_{1} v_{3} + E_{3} v_{1}\\right)}{c^{2}}\\\\\\frac{\\gamma \\left(- c^{2} \\left(E_{1} v_{1} v_{2} \\left(\\gamma - 1\\right) + E_{2} \\left(v_{1}^{2} + v_{2}^{2} \\left(\\gamma - 1\\right) + v_{2}^{2} + v_{3}^{2}\\right) + E_{3} v_{2} v_{3} \\left(\\gamma - 1\\right)\\right) + \\gamma v_{2} \\left(v_{1}^{2} + v_{2}^{2} + v_{3}^{2}\\right) \\left(E_{1} v_{1} + E_{2} v_{2} + E_{3} v_{3}\\right)\\right)}{c^{3} \\left(v_{1}^{2} + v_{2}^{2} + v_{3}^{2}\\right)} & \\frac{\\gamma \\left(E_{1} v_{2} - E_{2} v_{1}\\right)}{c^{2}} & 0 & \\frac{\\gamma \\left(- E_{2} v_{3} + E_{3} v_{2}\\right)}{c^{2}}\\\\\\frac{\\gamma \\left(- c^{2} \\left(E_{1} v_{1} v_{3} \\left(\\gamma - 1\\right) + E_{2} v_{2} v_{3} \\left(\\gamma - 1\\right) + E_{3} \\left(v_{1}^{2} + v_{2}^{2} + v_{3}^{2} \\left(\\gamma - 1\\right) + v_{3}^{2}\\right)\\right) + \\gamma v_{3} \\left(v_{1}^{2} + v_{2}^{2} + v_{3}^{2}\\right) \\left(E_{1} v_{1} + E_{2} v_{2} + E_{3} v_{3}\\right)\\right)}{c^{3} \\left(v_{1}^{2} + v_{2}^{2} + v_{3}^{2}\\right)} & \\frac{\\gamma \\left(E_{1} v_{3} - E_{3} v_{1}\\right)}{c^{2}} & \\frac{\\gamma \\left(E_{2} v_{3} - E_{3} v_{2}\\right)}{c^{2}} & 0\\end{matrix}\\right]$"
      ],
      "text/plain": [
       "⎡                                                                             \n",
       "⎢                                                                             \n",
       "⎢                                                                 0           \n",
       "⎢                                                                             \n",
       "⎢                                                                             \n",
       "⎢                                                                             \n",
       "⎢  ⎛   2 ⎛   ⎛  2             2     2     2⎞                                  \n",
       "⎢γ⋅⎝- c ⋅⎝E₁⋅⎝v₁ ⋅(γ - 1) + v₁  + v₂  + v₃ ⎠ + E₂⋅v₁⋅v₂⋅(γ - 1) + E₃⋅v₁⋅v₃⋅(γ \n",
       "⎢─────────────────────────────────────────────────────────────────────────────\n",
       "⎢                                                         3 ⎛  2     2     2⎞ \n",
       "⎢                                                        c ⋅⎝v₁  + v₂  + v₃ ⎠ \n",
       "⎢                                                                             \n",
       "⎢  ⎛   2 ⎛                      ⎛  2     2             2     2⎞               \n",
       "⎢γ⋅⎝- c ⋅⎝E₁⋅v₁⋅v₂⋅(γ - 1) + E₂⋅⎝v₁  + v₂ ⋅(γ - 1) + v₂  + v₃ ⎠ + E₃⋅v₂⋅v₃⋅(γ \n",
       "⎢─────────────────────────────────────────────────────────────────────────────\n",
       "⎢                                                         3 ⎛  2     2     2⎞ \n",
       "⎢                                                        c ⋅⎝v₁  + v₂  + v₃ ⎠ \n",
       "⎢                                                                             \n",
       "⎢  ⎛   2 ⎛                                         ⎛  2     2     2           \n",
       "⎢γ⋅⎝- c ⋅⎝E₁⋅v₁⋅v₃⋅(γ - 1) + E₂⋅v₂⋅v₃⋅(γ - 1) + E₃⋅⎝v₁  + v₂  + v₃ ⋅(γ - 1) + \n",
       "⎢─────────────────────────────────────────────────────────────────────────────\n",
       "⎢                                                         3 ⎛  2     2     2⎞ \n",
       "⎣                                                        c ⋅⎝v₁  + v₂  + v₃ ⎠ \n",
       "\n",
       "                                                           ⎛ 2 ⎛   ⎛  2       \n",
       "                                                         γ⋅⎝c ⋅⎝E₁⋅⎝v₁ ⋅(γ - 1\n",
       "                                                         ─────────────────────\n",
       "                                                                              \n",
       "                                                                              \n",
       "                                                                              \n",
       "    ⎞        ⎛  2     2     2⎞                        ⎞                       \n",
       "- 1)⎠ + γ⋅v₁⋅⎝v₁  + v₂  + v₃ ⎠⋅(E₁⋅v₁ + E₂⋅v₂ + E₃⋅v₃)⎠                       \n",
       "───────────────────────────────────────────────────────                       \n",
       "                                                                              \n",
       "                                                                              \n",
       "                                                                              \n",
       "    ⎞        ⎛  2     2     2⎞                        ⎞                       \n",
       "- 1)⎠ + γ⋅v₂⋅⎝v₁  + v₂  + v₃ ⎠⋅(E₁⋅v₁ + E₂⋅v₂ + E₃⋅v₃)⎠                       \n",
       "───────────────────────────────────────────────────────                       \n",
       "                                                                              \n",
       "                                                                              \n",
       "                                                                              \n",
       "  2⎞⎞        ⎛  2     2     2⎞                        ⎞                       \n",
       "v₃ ⎠⎠ + γ⋅v₃⋅⎝v₁  + v₂  + v₃ ⎠⋅(E₁⋅v₁ + E₂⋅v₂ + E₃⋅v₃)⎠                       \n",
       "───────────────────────────────────────────────────────                       \n",
       "                                                                              \n",
       "                                                                              \n",
       "\n",
       "      2     2     2⎞                                      ⎞        ⎛  2     2 \n",
       ") + v₁  + v₂  + v₃ ⎠ + E₂⋅v₁⋅v₂⋅(γ - 1) + E₃⋅v₁⋅v₃⋅(γ - 1)⎠ - γ⋅v₁⋅⎝v₁  + v₂  \n",
       "──────────────────────────────────────────────────────────────────────────────\n",
       "                                   3 ⎛  2     2     2⎞                        \n",
       "                                  c ⋅⎝v₁  + v₂  + v₃ ⎠                        \n",
       "                                                                              \n",
       "                                                                              \n",
       "                                                                              \n",
       "                                           0                                  \n",
       "                                                                              \n",
       "                                                                              \n",
       "                                                                              \n",
       "                                                                              \n",
       "                                   γ⋅(E₁⋅v₂ - E₂⋅v₁)                          \n",
       "                                   ─────────────────                          \n",
       "                                            2                                 \n",
       "                                           c                                  \n",
       "                                                                              \n",
       "                                                                              \n",
       "                                   γ⋅(E₁⋅v₃ - E₃⋅v₁)                          \n",
       "                                   ─────────────────                          \n",
       "                                            2                                 \n",
       "                                           c                                  \n",
       "\n",
       "    2⎞                        ⎞    ⎛ 2 ⎛                      ⎛  2     2      \n",
       "+ v₃ ⎠⋅(E₁⋅v₁ + E₂⋅v₂ + E₃⋅v₃)⎠  γ⋅⎝c ⋅⎝E₁⋅v₁⋅v₂⋅(γ - 1) + E₂⋅⎝v₁  + v₂ ⋅(γ - \n",
       "───────────────────────────────  ─────────────────────────────────────────────\n",
       "                                                                              \n",
       "                                                                              \n",
       "                                                                              \n",
       "                                                                              \n",
       "                                                                              \n",
       "                                                                              \n",
       "                                                                              \n",
       "                                                                              \n",
       "                                                                              \n",
       "                                                                              \n",
       "                                                                              \n",
       "                                                                              \n",
       "                                                                              \n",
       "                                                                              \n",
       "                                                                              \n",
       "                                                                              \n",
       "                                                                              \n",
       "                                                                              \n",
       "                                                                              \n",
       "                                                                              \n",
       "\n",
       "       2     2⎞                   ⎞        ⎛  2     2     2⎞                  \n",
       "1) + v₂  + v₃ ⎠ + E₃⋅v₂⋅v₃⋅(γ - 1)⎠ - γ⋅v₂⋅⎝v₁  + v₂  + v₃ ⎠⋅(E₁⋅v₁ + E₂⋅v₂ + \n",
       "──────────────────────────────────────────────────────────────────────────────\n",
       "           3 ⎛  2     2     2⎞                                                \n",
       "          c ⋅⎝v₁  + v₂  + v₃ ⎠                                                \n",
       "                                                                              \n",
       "                                                                              \n",
       "           γ⋅(-E₁⋅v₂ + E₂⋅v₁)                                                 \n",
       "           ──────────────────                                                 \n",
       "                    2                                                         \n",
       "                   c                                                          \n",
       "                                                                              \n",
       "                                                                              \n",
       "                                                                              \n",
       "                   0                                                          \n",
       "                                                                              \n",
       "                                                                              \n",
       "                                                                              \n",
       "                                                                              \n",
       "           γ⋅(E₂⋅v₃ - E₃⋅v₂)                                                  \n",
       "           ─────────────────                                                  \n",
       "                    2                                                         \n",
       "                   c                                                          \n",
       "\n",
       "      ⎞    ⎛ 2 ⎛                                         ⎛  2     2     2     \n",
       "E₃⋅v₃)⎠  γ⋅⎝c ⋅⎝E₁⋅v₁⋅v₃⋅(γ - 1) + E₂⋅v₂⋅v₃⋅(γ - 1) + E₃⋅⎝v₁  + v₂  + v₃ ⋅(γ -\n",
       "───────  ─────────────────────────────────────────────────────────────────────\n",
       "                                                                 3 ⎛  2     2 \n",
       "                                                                c ⋅⎝v₁  + v₂  \n",
       "                                                                              \n",
       "                                                                              \n",
       "                                                                 γ⋅(-E₁⋅v₃ + E\n",
       "                                                                 ─────────────\n",
       "                                                                          2   \n",
       "                                                                         c    \n",
       "                                                                              \n",
       "                                                                              \n",
       "                                                                 γ⋅(-E₂⋅v₃ + E\n",
       "                                                                 ─────────────\n",
       "                                                                          2   \n",
       "                                                                         c    \n",
       "                                                                              \n",
       "                                                                              \n",
       "                                                                              \n",
       "                                                                         0    \n",
       "                                                                              \n",
       "                                                                              \n",
       "\n",
       "        2⎞⎞        ⎛  2     2     2⎞                        ⎞⎤\n",
       " 1) + v₃ ⎠⎠ - γ⋅v₃⋅⎝v₁  + v₂  + v₃ ⎠⋅(E₁⋅v₁ + E₂⋅v₂ + E₃⋅v₃)⎠⎥\n",
       "─────────────────────────────────────────────────────────────⎥\n",
       "    2⎞                                                       ⎥\n",
       "+ v₃ ⎠                                                       ⎥\n",
       "                                                             ⎥\n",
       "                                                             ⎥\n",
       "₃⋅v₁)                                                        ⎥\n",
       "─────                                                        ⎥\n",
       "                                                             ⎥\n",
       "                                                             ⎥\n",
       "                                                             ⎥\n",
       "                                                             ⎥\n",
       "₃⋅v₂)                                                        ⎥\n",
       "─────                                                        ⎥\n",
       "                                                             ⎥\n",
       "                                                             ⎥\n",
       "                                                             ⎥\n",
       "                                                             ⎥\n",
       "                                                             ⎥\n",
       "                                                             ⎥\n",
       "                                                             ⎥\n",
       "                                                             ⎦"
      ]
     },
     "metadata": {},
     "output_type": "display_data"
    }
   ],
   "source": [
    "def f(i, j):\n",
    "    a = 0\n",
    "    for nu in range(4):\n",
    "        for mu in range(4):\n",
    "            a += Lam[i,mu]*Lam[nu,j]*F0[mu,nu]\n",
    "    return(a)\n",
    "\n",
    "F_prime = Matrix(4,4,f)\n",
    "\n",
    "for i in range(4):\n",
    "    for n in range(4):\n",
    "        F_prime[i, n] = F_prime[i, n].simplify()\n",
    "        \n",
    "display(F_prime)"
   ]
  },
  {
   "cell_type": "markdown",
   "metadata": {},
   "source": [
    "Pick out the values for $\\vec{B}$:"
   ]
  },
  {
   "cell_type": "code",
   "execution_count": 9,
   "metadata": {
    "ExecuteTime": {
     "end_time": "2018-09-26T03:19:15.558601Z",
     "start_time": "2018-09-26T03:19:14.970322Z"
    }
   },
   "outputs": [
    {
     "data": {
      "image/png": "[encoded data removed]",
      "text/latex": [
       "$\\displaystyle (\\frac{\\gamma \\left(E_{2} v_{3} - E_{3} v_{2}\\right)}{c^{2}})\\mathbf{\\hat{i}_{C}} + (\\frac{\\gamma \\left(- E_{1} v_{3} + E_{3} v_{1}\\right)}{c^{2}})\\mathbf{\\hat{j}_{C}} + (\\frac{\\gamma \\left(E_{1} v_{2} - E_{2} v_{1}\\right)}{c^{2}})\\mathbf{\\hat{k}_{C}}$"
      ],
      "text/plain": [
       "(gamma*(E2*v3 - E3*v2)/c**2)*C.i + (gamma*(-E1*v3 + E3*v1)/c**2)*C.j + (gamma*(E1*v2 - E2*v1)/c**2)*C.k"
      ]
     },
     "metadata": {},
     "output_type": "display_data"
    }
   ],
   "source": [
    "B_ten = (F_prime[3,2]*C.i - F_prime[3,1]*C.j + F_prime[2,1]*C.k).simplify()\n",
    "display(B_ten)"
   ]
  },
  {
   "cell_type": "markdown",
   "metadata": {},
   "source": [
    "Check if $\\vec{B'} + \\frac{\\gamma}{c^2} (\\vec{v} \\times \\vec{E}) = 0 $"
   ]
  },
  {
   "cell_type": "code",
   "execution_count": 10,
   "metadata": {
    "ExecuteTime": {
     "end_time": "2018-09-26T05:48:02.226541Z",
     "start_time": "2018-09-26T05:48:00.977725Z"
    }
   },
   "outputs": [
    {
     "data": {
      "image/png": "[encoded data removed]",
      "text/latex": [
       "$\\displaystyle \\mathbf{\\hat{0}}$"
      ],
      "text/plain": [
       "0"
      ]
     },
     "execution_count": 10,
     "metadata": {},
     "output_type": "execute_result"
    }
   ],
   "source": [
    "result = B_ten - B_cross \n",
    "result.simplify()"
   ]
  },
  {
   "cell_type": "markdown",
   "metadata": {},
   "source": [
    "$\\vec{B'} + \\frac{\\gamma}{c^2} (\\vec{v} \\times \\vec{E}) = 0$\n",
    "\n",
    "$\\therefore \\vec{B'} = -\\frac{\\gamma}{c^2} (\\vec{v} \\times \\vec{E})$"
   ]
  },
  {
   "cell_type": "code",
   "execution_count": null,
   "metadata": {},
   "outputs": [],
   "source": []
  }
 ],
 "metadata": {
  "kernelspec": {
   "display_name": "Python 3",
   "language": "python",
   "name": "python3"
  },
  "language_info": {
   "codemirror_mode": {
    "name": "ipython",
    "version": 3
   },
   "file_extension": ".py",
   "mimetype": "text/x-python",
   "name": "python",
   "nbconvert_exporter": "python",
   "pygments_lexer": "ipython3",
   "version": "3.7.5"
  },
  "latex_envs": {
   "LaTeX_envs_menu_present": true,
   "autoclose": false,
   "autocomplete": true,
   "bibliofile": "biblio.bib",
   "cite_by": "apalike",
   "current_citInitial": 1,
   "eqLabelWithNumbers": true,
   "eqNumInitial": 1,
   "hotkeys": {
    "equation": "Ctrl-E",
    "itemize": "Ctrl-I"
   },
   "labels_anchors": false,
   "latex_user_defs": false,
   "report_style_numbering": false,
   "user_envs_cfg": false
  },
  "toc": {
   "base_numbering": 1,
   "nav_menu": {},
   "number_sections": false,
   "sideBar": true,
   "skip_h1_title": false,
   "title_cell": "Table of Contents",
   "title_sidebar": "Contents",
   "toc_cell": false,
   "toc_position": {},
   "toc_section_display": true,
   "toc_window_display": false
  }
 },
 "nbformat": 4,
 "nbformat_minor": 4
}
